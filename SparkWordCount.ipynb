{
  "nbformat": 4,
  "nbformat_minor": 0,
  "metadata": {
    "colab": {
      "provenance": [],
      "toc_visible": true
    },
    "kernelspec": {
      "name": "python3",
      "display_name": "Python 3"
    },
    "language_info": {
      "name": "python"
    }
  },
  "cells": [
    {
      "cell_type": "code",
      "execution_count": null,
      "metadata": {
        "colab": {
          "base_uri": "https://localhost:8080/"
        },
        "id": "Cl3P3xbKR8Ll",
        "outputId": "70267bbb-92c1-4bdc-98b0-5f0aef3e2d22"
      },
      "outputs": [
        {
          "output_type": "stream",
          "name": "stdout",
          "text": [
            "Mounted at /content/drive\n",
            "'watermelon': 1\n",
            "'kiwi': 4\n",
            "'banana': 6\n",
            "'pineapple': 1\n",
            "'blueberry': 1\n",
            "'apple': 1\n",
            "'currant': 1\n",
            "'date': 1\n",
            "'boysenberry': 1\n",
            "'strawberry': 1\n",
            "'papaya': 1\n",
            "'orange': 2\n",
            "'mango': 3\n",
            "'fig': 1\n",
            "'gooseberry': 1\n",
            "'olive': 1\n",
            "'tangerine': 1\n",
            "'apricot': 1\n",
            "'ackee': 1\n",
            "'durian': 1\n"
          ]
        }
      ],
      "source": [
        "import os\n",
        "import string\n",
        "from pyspark.sql import SparkSession\n",
        "from google.colab import drive\n",
        "\n",
        "drive.mount('/content/drive', force_remount=True)\n",
        "\n",
        "spark = SparkSession.builder.master(\"local[2]\").appName(\"WordCount\").getOrCreate()\n",
        "sc = spark.sparkContext\n",
        "file_path = \"/content/drive/MyDrive/inputfile.txt\"\n",
        "\n",
        "#Load file into an RDD\n",
        "text_file = sc.textFile(file_path)\n",
        "\n",
        "#Define punctuation remover globally to avoid serialization issues\n",
        "translator = str.maketrans(\"\", \"\", string.punctuation)\n",
        "\n",
        "#Function to process text: lowercase, remove punctuation, split into words\n",
        "def process_line(line):\n",
        "    return line.lower().translate(translator).split()\n",
        "\n",
        "#Process words and count occurrences\n",
        "word_counts = (text_file.flatMap(process_line)  # Process each line\n",
        "                        .filter(lambda word: word)  # Remove empty words\n",
        "                        .map(lambda word: (word, 1))\n",
        "                        .reduceByKey(lambda a, b: a + b))\n",
        "\n",
        "for word, count in word_counts.take(30):\n",
        "    print(f\"'{word}': {count}\")\n",
        "\n",
        "spark.stop()\n"
      ]
    }
  ]
}