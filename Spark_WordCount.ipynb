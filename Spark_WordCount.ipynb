{
  "nbformat": 4,
  "nbformat_minor": 0,
  "metadata": {
    "colab": {
      "provenance": [],
      "toc_visible": true
    },
    "kernelspec": {
      "name": "python3",
      "display_name": "Python 3"
    },
    "language_info": {
      "name": "python"
    }
  },
  "cells": [
    {
      "cell_type": "code",
      "execution_count": 3,
      "metadata": {
        "colab": {
          "base_uri": "https://localhost:8080/"
        },
        "id": "Cl3P3xbKR8Ll",
        "outputId": "82b9a1a9-7a0e-45d2-eae4-6a6cbec7bab7"
      },
      "outputs": [
        {
          "output_type": "stream",
          "name": "stdout",
          "text": [
            "Mounted at /content/drive\n",
            "'1789': 1\n",
            "'1815': 1\n",
            "'19th': 1\n",
            "'2018': 1\n",
            "'20th': 2\n",
            "'a': 21\n",
            "'about': 3\n",
            "'accompanied': 1\n",
            "'addressing': 1\n",
            "'aerospace': 1\n",
            "'affairs': 2\n",
            "'affected': 1\n",
            "'ages': 2\n",
            "'agricultural': 2\n",
            "'agriculture': 1\n",
            "'aimed': 1\n",
            "'allows': 1\n",
            "'along': 2\n",
            "'alpine': 1\n",
            "'alps': 1\n",
            "'also': 3\n",
            "'an': 2\n",
            "'and': 57\n",
            "'andorra': 1\n",
            "'another': 1\n",
            "'architectural': 1\n",
            "'architecture': 1\n",
            "'are': 3\n",
            "'areas': 1\n",
            "'array': 1\n"
          ]
        }
      ],
      "source": [
        "import os\n",
        "import string\n",
        "from pyspark.sql import SparkSession\n",
        "from google.colab import drive\n",
        "\n",
        "drive.mount('/content/drive', force_remount=True)\n",
        "\n",
        "spark = SparkSession.builder.master(\"local[2]\").appName(\"WordCount\").getOrCreate()\n",
        "sc = spark.sparkContext\n",
        "file_path = \"/content/drive/MyDrive/France.txt\"\n",
        "\n",
        "# Load file into an RDD\n",
        "text_file = sc.textFile(file_path)\n",
        "\n",
        "# Define punctuation remover globally to avoid serialization issues\n",
        "translator = str.maketrans(\"\", \"\", string.punctuation)\n",
        "\n",
        "# Function to process text: lowercase, remove punctuation, split into words\n",
        "def process_line(line):\n",
        "    return line.lower().translate(translator).split()\n",
        "\n",
        "# Process words and count occurrences\n",
        "word_counts = (text_file.flatMap(process_line)  # Process each line\n",
        "                        .filter(lambda word: word)  # Remove empty words\n",
        "                        .map(lambda word: (word, 1))\n",
        "                        .reduceByKey(lambda a, b: a + b)\n",
        "                        .sortByKey())  # Sort alphabetically by word\n",
        "\n",
        "# Print the top 30 words in alphabetical order\n",
        "for word, count in word_counts.take(30):\n",
        "    print(f\"'{word}': {count}\")\n",
        "\n",
        "spark.stop()\n"
      ]
    }
  ]
}